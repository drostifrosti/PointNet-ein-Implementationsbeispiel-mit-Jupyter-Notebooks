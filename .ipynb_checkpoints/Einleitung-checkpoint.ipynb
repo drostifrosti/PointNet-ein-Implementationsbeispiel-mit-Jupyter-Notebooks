{
 "cells": [
  {
   "cell_type": "markdown",
   "metadata": {},
   "source": [
    "<center><h1>PointNet: Ein interaktives Implementationsbeispiel mit Jupyter Notebooks</h1></center>\n",
    "<p>\n",
    "<p>\n",
    "\n",
    "Dieses Juypter-Notebook sowie die zugehörigen Notebooks wurden im Rahmen einer wissenschaftlichen Vertiefungsarbeit entworfen. Das Ziel dieser Arbeit ist es, einen Einstieg in die Funktionalität künstlicher neuronaler Netzwerke zu geben und die PointNet-Architektur von Qi et al. \\[1\\] detailliert zu erläutern.\n",
    "    \n",
    "Um PointNet nicht nur auf theoretischer Ebene zu erklären, wird im Rahmen dieser Notebooks eine simple Implementation mit der Deep Learning API Keras Schritt für Schritt analysiert. Der Nutzer kann bei seiner Lektüre die Parameter des Netzwerks beliebig editieren und die Effekte beim Training live mitverfolgen.\n",
    "    \n",
    "# Installationshinweise\n",
    "    \n",
    "Da es sich bei dem Training neuronaler Netzwerke um einen zeit- und ressourcenintensive Prozess handelt, wird für die interaktive Lektüre eine lokale Installation von Python und den nötigen Paketen benötigt.\n",
    "    \n",
    "Hierfür empfiehlt sich das Toolkit [**Anaconda**](https://www.anaconda.com/products/individual).\n",
    "\n",
    "Nach Installation von Anaconda werden wahlweise über den Anaconda-Navigator oder die Konsole die Pakete für Tensorflow und Keras für die root-Umgebung heruntergeladen.\n",
    "\n",
    "Mithilfe der Anaconda-App \"Jupyter Notebook\" startet ein lokaler Python-Server, welcher die interaktive Lektüre im Webbrowser ermöglicht.\n",
    "    \n"
   ]
  },
  {
   "cell_type": "markdown",
   "metadata": {},
   "source": [
    "## Inhalt\n",
    "\n",
    "\n",
    "[**PointNet - Klassifizerungsnetzwerk**](./PointNet-Klassifizierungsnetzwerk.ipynb)\n",
    "\n",
    "Analyse des PointNet-Klassifizierungsnetzwerks anhand einer Beispielimplementation. Neben den Bestandteilen des Netzwerks werden auch die Art und Form des Inputs erläutert. Das Netzwerk kann mit individuell editierbaren Parametern trainiert und anschließend gespeichert werden.\n",
    "\n",
    "[**PointNet - Segmentierungsnetzwerk**](./PointNet-Segmentierungsnetzwerk.ipynb)\n",
    "    \n",
    "Analyse des PointNet-Segmentierungsnetzwerks anhand einer Beispielimplementation. Neben den Bestandteilen des Netzwerks werden auch die Art und Form des Inputs erläutert. Das Netzwerk kann mit individuell editierbaren Parametern trainiert und anschließend gespeichert werden.\n"
   ]
  },
  {
   "cell_type": "markdown",
   "metadata": {},
   "source": [
    " ## Github-Repository\n",
    " \n",
    " https://github.com/m-117/PointNet-ein-Implementationsbeispiel-mit-Jupyter-Notebooks"
   ]
  },
  {
   "cell_type": "markdown",
   "metadata": {},
   "source": [
    "\n",
    "\n",
    "Quellen: \n",
    "\n",
    "\\[1\\] C. R. Qi, H. Su, K. Mo, and L. J. Guibas, “PointNet: Deep Learning on Point Sets for 3D Classification and Segmentation,” CoRR, vol. abs/1612.00593, 2016, [Online]. Available: http://arxiv.org/abs/1612.00593."
   ]
  }
 ],
 "metadata": {
  "kernelspec": {
   "display_name": "Python 3",
   "language": "python",
   "name": "python3"
  },
  "language_info": {
   "codemirror_mode": {
    "name": "ipython",
    "version": 3
   },
   "file_extension": ".py",
   "mimetype": "text/x-python",
   "name": "python",
   "nbconvert_exporter": "python",
   "pygments_lexer": "ipython3",
   "version": "3.7.6"
  }
 },
 "nbformat": 4,
 "nbformat_minor": 4
}
